{
 "metadata": {
  "language_info": {
   "codemirror_mode": {
    "name": "ipython",
    "version": 3
   },
   "file_extension": ".py",
   "mimetype": "text/x-python",
   "name": "python",
   "nbconvert_exporter": "python",
   "pygments_lexer": "ipython3",
   "version": "3.8.3-final"
  },
  "orig_nbformat": 2,
  "kernelspec": {
   "name": "python_defaultSpec_1598276452756",
   "display_name": "Python 3.8.3 64-bit ('3.8.3': pyenv)"
  }
 },
 "nbformat": 4,
 "nbformat_minor": 2,
 "cells": [
  {
   "cell_type": "markdown",
   "metadata": {},
   "source": [
    "![Trie](../static/trie.png)"
   ]
  },
  {
   "cell_type": "markdown",
   "metadata": {},
   "source": [
    "^example of what a **TRIE** may look like\n",
    "\n",
    "- notice how root is empty\n",
    "- all descendants of a node have a common prefix\n",
    "- widely used in autocomplete, spell checkers\n",
    "- can represent a trie with an array or a hashmap (also data structures)"
   ]
  },
  {
   "cell_type": "markdown",
   "metadata": {},
   "source": [
    "This is how you insert into trie"
   ]
  },
  {
   "cell_type": "markdown",
   "metadata": {
    "tags": []
   },
   "source": [
    "![insert](../static/insert-trie.gif)"
   ]
  },
  {
   "cell_type": "markdown",
   "metadata": {},
   "source": [
    "and how you search in a Trie"
   ]
  },
  {
   "cell_type": "markdown",
   "metadata": {},
   "source": [
    "![search](../static/search-trie.gif)"
   ]
  },
  {
   "cell_type": "markdown",
   "metadata": {},
   "source": [
    "**Trie** is also sometimes called **prefix tree**, it is a special form **N-ary tree** (meaning each node can have no more than **N** children)\n",
    "\n",
    "Origin of **Trie** is from re**trie**ve"
   ]
  },
  {
   "cell_type": "markdown",
   "metadata": {},
   "source": [
    "You use an array or a hashmap to implement a **Trie**. For example"
   ]
  },
  {
   "cell_type": "code",
   "execution_count": 21,
   "metadata": {},
   "outputs": [],
   "source": [
    "from typing import Tuple\n",
    "import json\n",
    "\n",
    "\n",
    "class TrieNode:\n",
    "    def __init__(self, char: str):\n",
    "        self.char = char\n",
    "        self.children = []\n",
    "        self.word_finished = False  # Is it the last character of the word ?\n",
    "        self.counter = 1            # How many times this character appeared in the addition process\n",
    "\n",
    "    # could have used __str__ as well. __repr__ conventional use is to reconstruct\n",
    "    # the instance of a class given a string. For example, if class Foo has a single\n",
    "    # attribute bar, and its value is 'bar', then __repr__ would return\n",
    "    # Foo(bar='bar'). Here we use __repr__ to help us visualize the Trie\n",
    "    def __repr__(self):\n",
    "        return json.dumps(self._json(), indent=4)\n",
    "\n",
    "    def _json(self):\n",
    "        return {\n",
    "            \"char\": self.char,\n",
    "            \"children\": [child._json() for child in self.children],\n",
    "            \"word_finished\": self.word_finished,\n",
    "            \"counter\": self.counter,\n",
    "        }\n",
    "\n",
    "# adds a word to a TrieNode\n",
    "#\n",
    "# 1. current node is root at start\n",
    "# 2. for each character in the word\n",
    "#    - look for the TrieNode whose value (self.char) == this character\n",
    "#    - if can't find, create a TrieNode; else traverse down the found TrieNode\n",
    "#\n",
    "# Time Complexity of this is O(N * M). Meaning very inefficient\n",
    "# N - length of word\n",
    "# M - maximum number of children a TrieNode can have (a Trie is a special form N-ary Trie)\n",
    "#\n",
    "# How could we improve the time complexity of this algo?\n",
    "# We could store pointers to the locations of the nodes separately. For example, given the root (its\n",
    "# hash, or some sort of key), we can look up the pointer to it in a database that would hold this info\n",
    "# for us. We can now get the instance of the root TrieNode, what next? We can now use the first character\n",
    "# of the word as an index, to go to the db to get the pointer to the next TrieNode, and so on.\n",
    "# You will agree that this is much more efficient. We have paid the price of extra storage in return for\n",
    "# the greater performance (time complexity)\n",
    "# Our TrieNode now, would at most take\n",
    "# Time Complexity O(N)\n",
    "# with Space Complexity O(L), where L is the total number of TrieNodes (many of TrieNode)\n",
    "# If you look here: https://eth.wiki/en/fundamentals/patricia-tree\n",
    "# then that is exactly how it is done in Ethereum. The only caveat, Ethereum doesn't use Tries, at least,\n",
    "# not the basic prefix tries. Let's continue exploring to understand why\n",
    "def add(root, word: str):\n",
    "    node = root\n",
    "    for char in word:\n",
    "        found_in_child = False\n",
    "        for child in node.children:\n",
    "            if child.char == char:\n",
    "                child.counter += 1\n",
    "                node = child\n",
    "                found_in_child = True\n",
    "                break\n",
    "\n",
    "        if not found_in_child:\n",
    "            new_node = TrieNode(char)\n",
    "            node.children.append(new_node)\n",
    "            node = new_node\n",
    "\n",
    "    node.word_finished = True\n",
    "\n",
    "\n",
    "# def find_prefix(root, prefix: str) -> Tuple[bool, int]:\n",
    "#     node = root\n",
    "#     if not root.children:\n",
    "#         return False, 0\n",
    "#     for char in prefix:\n",
    "#         char_not_found = True\n",
    "#         for child in node.children:\n",
    "#             if child.char == char:\n",
    "#                 char_not_found = False\n",
    "#                 node = child\n",
    "#                 break\n",
    "#         if char_not_found:\n",
    "#             return False, 0\n",
    "#     return True, node.counter\n",
    "\n",
    "\n",
    "# print(find_prefix(root, 'hac'))\n",
    "# print(find_prefix(root, 'hack'))\n",
    "# print(find_prefix(root, 'hackathon'))\n",
    "# print(find_prefix(root, 'ha'))\n",
    "# print(find_prefix(root, 'hammer'))"
   ]
  },
  {
   "cell_type": "code",
   "execution_count": 36,
   "metadata": {},
   "outputs": [],
   "source": [
    "root = TrieNode('*')\n",
    "add(root, \"dog\")\n",
    "add(root, \"done\")\n",
    "add(root, \"dope\")"
   ]
  },
  {
   "cell_type": "code",
   "execution_count": 37,
   "metadata": {},
   "outputs": [
    {
     "output_type": "execute_result",
     "data": {
      "text/plain": "{\n    \"char\": \"*\",\n    \"children\": [\n        {\n            \"char\": \"d\",\n            \"children\": [\n                {\n                    \"char\": \"o\",\n                    \"children\": [\n                        {\n                            \"char\": \"g\",\n                            \"children\": [],\n                            \"word_finished\": true,\n                            \"counter\": 1\n                        },\n                        {\n                            \"char\": \"n\",\n                            \"children\": [\n                                {\n                                    \"char\": \"e\",\n                                    \"children\": [],\n                                    \"word_finished\": true,\n                                    \"counter\": 1\n                                }\n                            ],\n                            \"word_finished\": false,\n                            \"counter\": 1\n                        },\n                        {\n                            \"char\": \"p\",\n                            \"children\": [\n                                {\n                                    \"char\": \"e\",\n                                    \"children\": [],\n                                    \"word_finished\": true,\n                                    \"counter\": 1\n                                }\n                            ],\n                            \"word_finished\": false,\n                            \"counter\": 1\n                        }\n                    ],\n                    \"word_finished\": false,\n                    \"counter\": 3\n                }\n            ],\n            \"word_finished\": false,\n            \"counter\": 3\n        }\n    ],\n    \"word_finished\": false,\n    \"counter\": 1\n}"
     },
     "metadata": {},
     "execution_count": 37
    }
   ],
   "source": [
    "root"
   ]
  },
  {
   "cell_type": "markdown",
   "metadata": {},
   "source": [
    "### REITERATION. WHY DON'T WE USE TRIE IN ETHEREUM?\n",
    "\n",
    "- awful time complexity\n",
    "- even if improved like in the above, wastes space (see radix trie below for comparison)"
   ]
  },
  {
   "cell_type": "markdown",
   "metadata": {},
   "source": [
    "### INTRODUCING RADIX TRIE"
   ]
  },
  {
   "cell_type": "markdown",
   "metadata": {},
   "source": [
    "![trie-vs-radix](../static/trie-vs-radix.png)"
   ]
  },
  {
   "cell_type": "markdown",
   "metadata": {},
   "source": [
    "![trie-vs-radix-2](../static/trie-vs-radix-2.png)"
   ]
  },
  {
   "cell_type": "markdown",
   "metadata": {},
   "source": [
    "i.e. the RADIX TRIE uses the space better. So RADIX TRIE is just like TRIE, but with better space"
   ]
  },
  {
   "cell_type": "code",
   "execution_count": null,
   "metadata": {},
   "outputs": [],
   "source": []
  },
  {
   "cell_type": "markdown",
   "metadata": {},
   "source": [
    "Here is Radix Tree"
   ]
  },
  {
   "cell_type": "markdown",
   "metadata": {},
   "source": [
    "Merkle / PATRICIA (Practical Algorithm To Retrieve Information Coded in Alphanumeric)\n",
    "\n",
    "Trie"
   ]
  },
  {
   "cell_type": "markdown",
   "metadata": {},
   "source": [
    "Modified Merkle Trie is Ethereum's optimized Merkle Trie"
   ]
  },
  {
   "cell_type": "code",
   "execution_count": null,
   "metadata": {},
   "outputs": [],
   "source": []
  },
  {
   "cell_type": "markdown",
   "metadata": {},
   "source": [
    "**Merkle Patricia Trie** (or Modified Merkle Patricia Trie, same thing) - is a data structure in computer science. In other words, it is a model to store data. You can learn about the Trie data structure here: https://www.wikiwand.com/en/Trie#/:~:text=In%20computer%20science,%20a%20trie,the%20keys%20are%20usually%20strings."
   ]
  },
  {
   "cell_type": "code",
   "execution_count": null,
   "metadata": {},
   "outputs": [],
   "source": []
  },
  {
   "cell_type": "markdown",
   "metadata": {},
   "source": [
    "**MPT** is:\n",
    "\n",
    "- CRYPTOGRAPHICALLY AUTHENTICATED\n",
    "\n",
    "- can store all (key, value) bindings\n",
    "\n",
    "- O(log N) INSERT, LOOKUP, DELETE"
   ]
  },
  {
   "cell_type": "code",
   "execution_count": null,
   "metadata": {},
   "outputs": [],
   "source": []
  },
  {
   "cell_type": "code",
   "execution_count": null,
   "metadata": {},
   "outputs": [],
   "source": []
  },
  {
   "cell_type": "code",
   "execution_count": null,
   "metadata": {},
   "outputs": [],
   "source": []
  },
  {
   "cell_type": "code",
   "execution_count": null,
   "metadata": {},
   "outputs": [],
   "source": []
  },
  {
   "cell_type": "code",
   "execution_count": null,
   "metadata": {},
   "outputs": [],
   "source": []
  },
  {
   "cell_type": "code",
   "execution_count": null,
   "metadata": {},
   "outputs": [],
   "source": []
  }
 ]
}